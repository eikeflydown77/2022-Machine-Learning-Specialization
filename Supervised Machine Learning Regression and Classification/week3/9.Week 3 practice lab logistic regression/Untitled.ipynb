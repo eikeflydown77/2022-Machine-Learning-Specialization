{
 "cells": [
  {
   "cell_type": "code",
   "execution_count": 3,
   "id": "eaf38e59",
   "metadata": {},
   "outputs": [],
   "source": [
    "from sympy import *\n",
    "x,y,z = symbols('x,y,z')"
   ]
  },
  {
   "cell_type": "code",
   "execution_count": 19,
   "id": "fb6c9b5b",
   "metadata": {},
   "outputs": [],
   "source": [
    "eq1 = 0.3*x + 0.4*y + 0.3*z - x\n",
    "eq2 = 0.2*x + 0.2*y + 0.6*z - y\n",
    "eq3 = 0.1*x + 0.8*y + 0.1*z - z\n",
    "eq4 = x + y + z - 1"
   ]
  },
  {
   "cell_type": "code",
   "execution_count": 20,
   "id": "496af4f1",
   "metadata": {},
   "outputs": [],
   "source": [
    "result = solve([eq1,eq2,eq3,eq4],[x,y,z])"
   ]
  },
  {
   "cell_type": "code",
   "execution_count": 21,
   "id": "32d78cad",
   "metadata": {},
   "outputs": [
    {
     "name": "stdout",
     "output_type": "stream",
     "text": [
      "{x: 0.333333333333333, y: 0.333333333333333, z: 0.333333333333333}\n"
     ]
    }
   ],
   "source": [
    "print(result)"
   ]
  },
  {
   "cell_type": "code",
   "execution_count": null,
   "id": "7a68dc71",
   "metadata": {},
   "outputs": [],
   "source": []
  }
 ],
 "metadata": {
  "kernelspec": {
   "display_name": "Python 3 (ipykernel)",
   "language": "python",
   "name": "python3"
  },
  "language_info": {
   "codemirror_mode": {
    "name": "ipython",
    "version": 3
   },
   "file_extension": ".py",
   "mimetype": "text/x-python",
   "name": "python",
   "nbconvert_exporter": "python",
   "pygments_lexer": "ipython3",
   "version": "3.9.12"
  }
 },
 "nbformat": 4,
 "nbformat_minor": 5
}
